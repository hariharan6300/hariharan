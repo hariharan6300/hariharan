{
  "nbformat": 4,
  "nbformat_minor": 0,
  "metadata": {
    "colab": {
      "name": "assignment2.ipynb",
      "provenance": []
    },
    "kernelspec": {
      "name": "python3",
      "display_name": "Python 3"
    },
    "language_info": {
      "name": "python"
    }
  },
  "cells": [
    {
      "cell_type": "code",
      "execution_count": null,
      "metadata": {
        "id": "96_j6VNSJcCq"
      },
      "outputs": [],
      "source": [
        ""
      ]
    },
    {
      "cell_type": "markdown",
      "source": [
        "Problem-1\n",
        "Write a small program to check a number is divisible by 7 or not"
      ],
      "metadata": {
        "id": "sAvNTFKNJxLS"
      }
    },
    {
      "cell_type": "code",
      "source": [
        "# Your code goes here\n",
        "x=7\n",
        "if (x%7)==0:\n",
        "  print(\"yes divisibe by 7\")\n",
        "else:\n",
        "  print(\"not divisibe by 7\")"
      ],
      "metadata": {
        "colab": {
          "base_uri": "https://localhost:8080/"
        },
        "id": "Px_spbjwKBl3",
        "outputId": "1a2e69ca-e5c3-43a2-9147-a8946b9a3b36"
      },
      "execution_count": 1,
      "outputs": [
        {
          "output_type": "stream",
          "name": "stdout",
          "text": [
            "yes divisibe by 7\n"
          ]
        }
      ]
    },
    {
      "cell_type": "markdown",
      "source": [
        "Problem-2\n",
        "If a number is divisible by either 5 or 7, then we will call it a 'five-or-seven' number.\n",
        "Write down a program to check if a number is 'five-or-seven' number or not."
      ],
      "metadata": {
        "id": "HNtfLgywKKWp"
      }
    },
    {
      "cell_type": "code",
      "source": [
        "# Your code goes here\n",
        "x=21\n",
        "if x%5==0 and x%7==0:\n",
        "  print(\"divisibe by both 5 and 7\")\n",
        "elif x%5==0:\n",
        "  print(\"only diviisible by 5\")\n",
        "elif x%7==0:\n",
        "  print(\"only diviisible by 7\")\n",
        "else:\n",
        "  print(\"not divisible by any\")"
      ],
      "metadata": {
        "colab": {
          "base_uri": "https://localhost:8080/"
        },
        "id": "tg1FNDGuKPVz",
        "outputId": "0ab6f9e4-4c6f-4550-cdaf-5d06bdb69cb8"
      },
      "execution_count": 2,
      "outputs": [
        {
          "output_type": "stream",
          "name": "stdout",
          "text": [
            "only diviisible by 7\n"
          ]
        }
      ]
    },
    {
      "cell_type": "markdown",
      "source": [
        "Problem-3\n",
        "Write a program to calculate the electricity bill (accept number of unit from user) according to the following criteria:\n",
        "\n",
        "Upto first 100 units Rs. 3 per unit.\n",
        "Next 100 units Rs. 5 per unit.\n",
        "Next 300 units Rs. 7 per unit.\n",
        "Above that, for each unit exceeding 500, Rs. 10 per unit flat."
      ],
      "metadata": {
        "id": "OjBOIARgKujG"
      }
    },
    {
      "cell_type": "code",
      "source": [
        "# Your code goes here\n",
        "x=1000\n",
        "if x>=0 and x<=100:\n",
        "  bill=x*3\n",
        "elif(x>100 and x<=200):\n",
        "  bill=x*5\n",
        "elif(x>200 and x<=500):\n",
        "  bill=x*7\n",
        "elif(x>500):\n",
        "  bill=x*10\n",
        "print(bill)"
      ],
      "metadata": {
        "colab": {
          "base_uri": "https://localhost:8080/"
        },
        "id": "pYHIirOJLG8r",
        "outputId": "325287a6-94d1-4a18-df5f-bbdf66a0cc84"
      },
      "execution_count": 3,
      "outputs": [
        {
          "output_type": "stream",
          "name": "stdout",
          "text": [
            "10000\n"
          ]
        }
      ]
    },
    {
      "cell_type": "markdown",
      "source": [
        "Problem-4\n",
        "Find out sum of square of all the numbers upto 10, starting from 1"
      ],
      "metadata": {
        "id": "27FMRQGALbXq"
      }
    },
    {
      "cell_type": "code",
      "source": [
        "# Your code goes here\n",
        "n=10\n",
        "sum=(n*(n+1)*((2*n)+1))/6\n",
        "print(sum)"
      ],
      "metadata": {
        "colab": {
          "base_uri": "https://localhost:8080/"
        },
        "id": "J7S1KC-dLmX6",
        "outputId": "59c799a4-606d-40ce-fbd7-545cfdc34af0"
      },
      "execution_count": 4,
      "outputs": [
        {
          "output_type": "stream",
          "name": "stdout",
          "text": [
            "385.0\n"
          ]
        }
      ]
    },
    {
      "cell_type": "markdown",
      "source": [
        "Problem-5\n",
        "Find out sum of square of all the even numbers upto 10, starting from 1"
      ],
      "metadata": {
        "id": "75pw2BvQLumf"
      }
    },
    {
      "cell_type": "code",
      "source": [
        "# Your code goes here\n",
        "sum= 0\n",
        "for num in range(0,10):\n",
        "  if num%2==0:\n",
        "    sum= sum+ (num ** 2)\n",
        "    \n",
        "print(sum)\n",
        "\n"
      ],
      "metadata": {
        "colab": {
          "base_uri": "https://localhost:8080/"
        },
        "id": "ROV_dWn_L1ak",
        "outputId": "919773ec-2be5-4eb6-b319-5d41760bf31b"
      },
      "execution_count": 5,
      "outputs": [
        {
          "output_type": "stream",
          "name": "stdout",
          "text": [
            "120\n"
          ]
        }
      ]
    },
    {
      "cell_type": "markdown",
      "source": [
        "Problem-6\n",
        "Check a number is prime or not"
      ],
      "metadata": {
        "id": "FSfc81vNL7Oh"
      }
    },
    {
      "cell_type": "code",
      "source": [
        "# Your code goes here\n",
        "num = int(input ('enter natural number:'))\n",
        "if num>1:\n",
        "  for i in range(2,int(num/2)+1):\n",
        "    if(num%i) == 0:\n",
        "      print(\"not a prime number\")\n",
        "      break\n",
        "  else:\n",
        "    print(\"prime no\")\n"
      ],
      "metadata": {
        "colab": {
          "base_uri": "https://localhost:8080/"
        },
        "id": "Tjd64mfpMBn_",
        "outputId": "6395f717-55c4-4125-b68f-8b87db65de85"
      },
      "execution_count": 8,
      "outputs": [
        {
          "output_type": "stream",
          "name": "stdout",
          "text": [
            "enter natural number:3\n",
            "prime no\n"
          ]
        }
      ]
    },
    {
      "cell_type": "markdown",
      "source": [
        "Problem-7\n",
        "Print multiplication table upto 10 starting from 1"
      ],
      "metadata": {
        "id": "vQhU4X53MoBQ"
      }
    },
    {
      "cell_type": "code",
      "source": [
        "# Your code goes here\n",
        "def tables():\n",
        "    for x in range(1, 11):\n",
        "\n",
        "        print(\"\")\n",
        "\n",
        "        for y in range(1, 11):\n",
        "            print(x * y, end=\" \")\n",
        "\n",
        "\n",
        "tables()"
      ],
      "metadata": {
        "colab": {
          "base_uri": "https://localhost:8080/"
        },
        "id": "WKzFcwxpM5iT",
        "outputId": "179cc7d8-b967-447e-e840-6316cecfad18"
      },
      "execution_count": 9,
      "outputs": [
        {
          "output_type": "stream",
          "name": "stdout",
          "text": [
            "\n",
            "1 2 3 4 5 6 7 8 9 10 \n",
            "2 4 6 8 10 12 14 16 18 20 \n",
            "3 6 9 12 15 18 21 24 27 30 \n",
            "4 8 12 16 20 24 28 32 36 40 \n",
            "5 10 15 20 25 30 35 40 45 50 \n",
            "6 12 18 24 30 36 42 48 54 60 \n",
            "7 14 21 28 35 42 49 56 63 70 \n",
            "8 16 24 32 40 48 56 64 72 80 \n",
            "9 18 27 36 45 54 63 72 81 90 \n",
            "10 20 30 40 50 60 70 80 90 100 "
          ]
        }
      ]
    },
    {
      "cell_type": "markdown",
      "source": [
        "Problem-8\n",
        "Print the series of first n fibonacci numbers"
      ],
      "metadata": {
        "id": "8xDd_fpCPmA-"
      }
    },
    {
      "cell_type": "code",
      "source": [
        "x=10\n",
        "n1, n2 = 0, 1\n",
        "count = 0\n",
        "\n",
        "\n",
        "\n",
        "\n",
        "print(\"Fibonacci sequence:\")\n",
        "while count < x:\n",
        "  print(n1)\n",
        "  nth = n1 + n2\n",
        "  n1 = n2\n",
        "  n2 = nth\n",
        "  count += 1"
      ],
      "metadata": {
        "colab": {
          "base_uri": "https://localhost:8080/"
        },
        "id": "pEa66EU3PyCW",
        "outputId": "462f0f0a-6a8e-4e56-ab69-6994e16eabd7"
      },
      "execution_count": 10,
      "outputs": [
        {
          "output_type": "stream",
          "name": "stdout",
          "text": [
            "Fibonacci sequence:\n",
            "0\n",
            "1\n",
            "1\n",
            "2\n",
            "3\n",
            "5\n",
            "8\n",
            "13\n",
            "21\n",
            "34\n"
          ]
        }
      ]
    }
  ]
}