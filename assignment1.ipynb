{
  "nbformat": 4,
  "nbformat_minor": 0,
  "metadata": {
    "colab": {
      "name": "assignment1.ipynb",
      "provenance": []
    },
    "kernelspec": {
      "name": "python3",
      "display_name": "Python 3"
    },
    "language_info": {
      "name": "python"
    }
  },
  "cells": [
    {
      "cell_type": "code",
      "execution_count": null,
      "metadata": {
        "id": "X97YMytkE9no"
      },
      "outputs": [],
      "source": [
        ""
      ]
    },
    {
      "cell_type": "markdown",
      "source": [
        "Let's solve a few problems to sharpen your coding skill.\n",
        "You can code in the cell following the problem statement.\n"
      ],
      "metadata": {
        "id": "0ztOvgwiHRxB"
      }
    },
    {
      "cell_type": "markdown",
      "source": [
        "Problem-1\n",
        "Your friend measures his body temperature using a thermometer and finds the\n",
        "reading to be 100 degree Farenheit. Can you please let us know the reading in Celsius scale?"
      ],
      "metadata": {
        "id": "kNfiCw2bIBhU"
      }
    },
    {
      "cell_type": "code",
      "source": [
        "F=100\n",
        "C = ((F-32)*5)/9\n",
        "print(C)"
      ],
      "metadata": {
        "colab": {
          "base_uri": "https://localhost:8080/"
        },
        "id": "vf5vVBh5InqP",
        "outputId": "f79ce2e9-ccc0-4b3d-a3a2-dddd00d8f07e"
      },
      "execution_count": 1,
      "outputs": [
        {
          "output_type": "stream",
          "name": "stdout",
          "text": [
            "37.77777777777778\n"
          ]
        }
      ]
    },
    {
      "cell_type": "markdown",
      "source": [
        "Problem-2\n",
        "The cost of producing x unit of item in a factory is y. Cost y is related\n",
        "to unit x by the following formula\n",
        "y= ax^2+bx+c where\n",
        "a, b, c are constants having value 2, 5, 1020 respectively.\n",
        "In this text (not in python language) ^ represents raised to the power.\n",
        "If management wants to produce 10,000 quantities of product, please let us know\n",
        "the average manufacturing cost for a single item."
      ],
      "metadata": {
        "id": "JGQx22rOI_4c"
      }
    },
    {
      "cell_type": "code",
      "source": [
        "x=10000\n",
        "a=2\n",
        "b=5\n",
        "c=1020\n",
        "y= (a*(x**2))+(b*x)+c\n",
        "y1=y/x\n",
        "print(y1)"
      ],
      "metadata": {
        "colab": {
          "base_uri": "https://localhost:8080/"
        },
        "id": "AwAdJnZNJGJA",
        "outputId": "1dbbaa92-b2db-4a63-9adb-723075b813cf"
      },
      "execution_count": 2,
      "outputs": [
        {
          "output_type": "stream",
          "name": "stdout",
          "text": [
            "20005.102\n"
          ]
        }
      ]
    }
  ]
}